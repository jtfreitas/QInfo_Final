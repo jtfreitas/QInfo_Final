{
  "nbformat": 4,
  "nbformat_minor": 0,
  "metadata": {
    "colab": {
      "name": "time_testing.ipynb",
      "provenance": [],
      "authorship_tag": "ABX9TyPwF3fYAFmJ43f7o12IpMKB",
      "include_colab_link": true
    },
    "kernelspec": {
      "name": "python3",
      "display_name": "Python 3"
    },
    "language_info": {
      "name": "python"
    }
  },
  "cells": [
    {
      "cell_type": "markdown",
      "metadata": {
        "id": "view-in-github",
        "colab_type": "text"
      },
      "source": [
        "<a href=\"https://colab.research.google.com/github/jtfreitas/QInfo_Final/blob/main/time_testing.ipynb\" target=\"_parent\"><img src=\"https://colab.research.google.com/assets/colab-badge.svg\" alt=\"Open In Colab\"/></a>"
      ]
    },
    {
      "cell_type": "code",
      "execution_count": null,
      "metadata": {
        "id": "uyd4Dwv4e6rG"
      },
      "outputs": [],
      "source": [
        "from final import *\n",
        "%load_ext autoreload\n",
        "%autoreload 2\n",
        "\n",
        "\n",
        "import tensorflow.python.util.deprecation as deprecation\n",
        "deprecation._PRINT_DEPRECATION_WARNINGS = False\n",
        "tf.compat.v1.logging.set_verbosity(tf.compat.v1.logging.ERROR)\n",
        "\n",
        "\n",
        "fig_dict = dict()"
      ]
    },
    {
      "cell_type": "code",
      "execution_count": null,
      "metadata": {
        "id": "Ie2Plh8Qa-hQ"
      },
      "outputs": [],
      "source": [
        "(x_train, y_train), (x_test, y_test) = mnist.load_data('mnist.npz')\n",
        "\n",
        "\n",
        "x_train, x_test = x_train.reshape((60000, 28, 28, 1))/255, x_test.reshape((10000, 28, 28, 1))/255\n",
        "\n",
        "x_train, x_val, y_train, y_val = train_test_split(x_train, y_train, test_size=0.1, random_state=123)\n",
        "avg_input = tf.keras.layers.AveragePooling2D((2,2))\n",
        "\n",
        "x_train_red, x_val_red, x_test_red = avg_input(x_train), avg_input(x_val), avg_input(x_test)\n",
        "\n",
        "mnist_train = tf.data.Dataset.from_tensor_slices((x_train_red, tf.one_hot(y_train, 10))).shuffle(100).batch(3000)\n",
        "mnist_val   = tf.data.Dataset.from_tensor_slices((x_val_red, tf.one_hot(y_val, 10))).shuffle(100).batch(len(x_val))\n",
        "mnist_test  = tf.data.Dataset.from_tensor_slices((x_test_red, tf.one_hot(y_test, 10))).batch(len(x_test))\n",
        "in_shape_mnist = x_train_red[0].shape"
      ]
    },
    {
      "cell_type": "code",
      "execution_count": null,
      "metadata": {
        "id": "GQ3Vo4_Da-hQ",
        "outputId": "98547afd-11de-449b-b7ae-16df3d1e4bbd"
      },
      "outputs": [
        {
          "name": "stdout",
          "output_type": "stream",
          "text": [
            "Model: \"sequential\"\n",
            "_________________________________________________________________\n",
            " Layer (type)                Output Shape              Param #   \n",
            "=================================================================\n",
            " conv1 (Conv2D)              (None, 13, 13, 28)        140       \n",
            "                                                                 \n",
            " maxpool1 (MaxPooling2D)     (None, 6, 6, 28)          0         \n",
            "                                                                 \n",
            " flatten (Flatten)           (None, 1008)              0         \n",
            "                                                                 \n",
            " mnist_tn (MNIST_TN)         (None, 10)                7116      \n",
            "                                                                 \n",
            "=================================================================\n",
            "Total params: 7,256\n",
            "Trainable params: 7,256\n",
            "Non-trainable params: 0\n",
            "_________________________________________________________________\n"
          ]
        }
      ],
      "source": [
        "tn_MNIST = tf.keras.Sequential(\n",
        "    [\n",
        "     tf.keras.Input(shape=in_shape_mnist),\n",
        "     Conv2D(filters=28, kernel_size=(2,2), strides=1, name='conv1', activation='relu', activity_regularizer=regularizers.l2(1e-4)),\n",
        "     MaxPooling2D((2,2), name='maxpool1'),\n",
        "     Flatten(),\n",
        "     MNIST_TN(bond_dim = 11, activity_regularizer=regularizers.l2(1e-5))\n",
        "    ])\n",
        "\n",
        "tn_MNIST.summary()\n",
        "\n",
        "tn_MNIST.compile(optimizer = 'adam', loss = 'categorical_crossentropy', metrics = ['Precision'])"
      ]
    },
    {
      "cell_type": "code",
      "source": [
        "start_time = time.clock_gettime_ns()\n",
        "hist_dict = tn_MNIST.fit(mnist_train, validation_data=mnist_val, epochs = 50, verbose = 0, shuffle=True)\n",
        "end_time = time.clock_gettime_ns()\n",
        "\n",
        "elapsed = (end_time - start_time)*1e9\n",
        "\n",
        "print(f'Model took {elapsed} seconds to train')"
      ],
      "metadata": {
        "id": "hQDv5ARffMAU"
      },
      "execution_count": null,
      "outputs": []
    },
    {
      "cell_type": "code",
      "execution_count": null,
      "metadata": {
        "id": "QYSONc8Ma-hR",
        "outputId": "f4a935e9-ac77-45d3-b5aa-c98b08e61a65"
      },
      "outputs": [
        {
          "name": "stdout",
          "output_type": "stream",
          "text": [
            "1/1 [==============================] - 0s 53ms/step - loss: 0.1311 - precision: 0.9728\n",
            "Model scored with 97.28% precision on the test set.\n"
          ]
        }
      ],
      "source": [
        "loaded_MNIST = tf.keras.models.load_model(os.getcwd()+'/saved_models/tn_MNIST.tf')\n",
        "\n",
        "prediction_prob = tn_MNIST.predict(mnist_test)\n",
        "prediction = np.argmax(prediction_prob, axis=1)\n",
        "\n",
        "correct_indices = y_test[prediction == y_test]\n",
        "incorrect_indices = y_test[prediction != y_test]\n",
        "\n",
        "_, score = tn_MNIST.evaluate(mnist_test)\n",
        "print(f\"Model scored with {score*100:.2f}% precision on the test set.\")"
      ]
    },
    {
      "cell_type": "code",
      "execution_count": null,
      "metadata": {
        "id": "NtsY_mZia-hT",
        "outputId": "78c4b22a-c275-401d-f043-3ab28f0aba91"
      },
      "outputs": [
        {
          "name": "stdout",
          "output_type": "stream",
          "text": [
            "Found 67692 files belonging to 131 classes.\n",
            "Using 54154 files for training.\n",
            "Found 67692 files belonging to 131 classes.\n",
            "Using 13538 files for validation.\n",
            "\n",
            "Test data:\n",
            "Found 22688 files belonging to 131 classes.\n"
          ]
        }
      ],
      "source": [
        "train_dir = os.getcwd() + \"/fruits360/Training\"\n",
        "test_dir  = os.getcwd() + \"/fruits360/Test\"\n",
        "batch_size = 3000\n",
        "img_height = 50\n",
        "img_width = 50\n",
        "validation_split = 0.2\n",
        "\n",
        "train_ds, val_ds, test_ds = load_fruits_dataset(train_dir, test_dir, validation_split, batch_size, img_height, img_width)\n"
      ]
    },
    {
      "cell_type": "code",
      "execution_count": null,
      "metadata": {
        "id": "itZKm72ma-hT",
        "outputId": "460696fc-6722-4193-ee53-cac22d9650cd"
      },
      "outputs": [
        {
          "data": {
            "image/png": "[encoded data removed]",
            "text/plain": [
              "<Figure size 432x288 with 1 Axes>"
            ]
          },
          "metadata": {
            "needs_background": "light"
          },
          "output_type": "display_data"
        },
        {
          "name": "stdout",
          "output_type": "stream",
          "text": [
            "Label : 26\n"
          ]
        }
      ],
      "source": [
        "normalization_layer = tf.keras.layers.Rescaling(1./255)\n",
        "\n",
        "normalized_ds_train = train_ds.map(lambda x, y: (normalization_layer(x), y))\n",
        "image_batch_train, labels_batch_train = next(iter(normalized_ds_train))\n",
        "\n",
        "normalized_ds_val = val_ds.map(lambda x, y: (normalization_layer(x), y))\n",
        "image_batch_val, labels_batch_val = next(iter(normalized_ds_val))\n",
        "\n",
        "first_image = image_batch_train[0]\n",
        "in_shape_fruits = first_image.shape\n",
        "\n",
        "plt.imshow(first_image)\n",
        "plt.show()\n",
        "print(f\"Label : {np.argmax(labels_batch_train[0])}\")"
      ]
    },
    {
      "cell_type": "code",
      "execution_count": null,
      "metadata": {
        "id": "QP55ngh7a-hU",
        "outputId": "9669a677-684e-4cf8-ea19-e9342d272ccd"
      },
      "outputs": [
        {
          "name": "stdout",
          "output_type": "stream",
          "text": [
            "Model: \"sequential_1\"\n",
            "_________________________________________________________________\n",
            " Layer (type)                Output Shape              Param #   \n",
            "=================================================================\n",
            " conv2d (Conv2D)             (None, 47, 47, 4)         196       \n",
            "                                                                 \n",
            " conv2dmpo (Conv2DMPO)       (None, 47, 47, 16)        272       \n",
            "                                                                 \n",
            " max_pooling2d (MaxPooling2D  (None, 23, 23, 16)       0         \n",
            " )                                                               \n",
            "                                                                 \n",
            " conv2dmpo_1 (Conv2DMPO)     (None, 23, 23, 256)       1536      \n",
            "                                                                 \n",
            " max_pooling2d_1 (MaxPooling  (None, 11, 11, 256)      0         \n",
            " 2D)                                                             \n",
            "                                                                 \n",
            " fruit_tn1 (fruit_TN1)       (None, 64)                26104     \n",
            "                                                                 \n",
            " dropout1 (Dropout)          (None, 64)                0         \n",
            "                                                                 \n",
            " fruit_tn2 (fruit_TN2)       (None, 131)               8547      \n",
            "                                                                 \n",
            "=================================================================\n",
            "Total params: 36,655\n",
            "Trainable params: 36,655\n",
            "Non-trainable params: 0\n",
            "_________________________________________________________________\n"
          ]
        }
      ],
      "source": [
        "#Building the tensor network\n",
        "tn_reg_dense = regularizers.l2(1e-5)\n",
        "tn_reg_conv  = regularizers.l2(1e-5)\n",
        "\n",
        "tn_fruits = tf.keras.Sequential([\n",
        "  Input(in_shape_fruits),\n",
        "  Conv2D(4, kernel_size=4),\n",
        "  Conv2DMPO(16, data_format = \"channels_last\", kernel_size=2, num_nodes=2, bond_dim=8, activation=\"relu\", activity_regularizer = tn_reg_conv),\n",
        "  MaxPooling2D(pool_size=(2,2)),\n",
        "  Conv2DMPO(256, data_format = \"channels_last\", kernel_size=2, num_nodes=4, bond_dim=8, activation=\"relu\", activity_regularizer = tn_reg_conv),\n",
        "  MaxPooling2D(pool_size=(2,2)),\n",
        "  fruit_TN1(bond_dim = 5, activity_regularizer = tn_reg_dense),\n",
        "  tf.keras.layers.Dropout(0.5, name='dropout1'),\n",
        "  fruit_TN2(bond_dim = 4, activity_regularizer = tn_reg_dense),\n",
        "  ])\n",
        "\n",
        "tn_fruits.summary()\n",
        "\n",
        "lr_schedule = optimizers.schedules.ExponentialDecay(0.01, 800, 0.5)\n",
        "\n",
        "opt = optimizers.Adam(learning_rate = lr_schedule, amsgrad=True)\n",
        "tn_fruits.compile(optimizer = opt, loss = 'categorical_crossentropy', metrics = ['Precision'])"
      ]
    },
    {
      "cell_type": "code",
      "execution_count": 1,
      "metadata": {
        "id": "kEQWpSoLa-hU",
        "outputId": "3cba6f11-482e-46da-ca34-9c5046fd706d",
        "colab": {
          "base_uri": "https://localhost:8080/",
          "height": 252
        }
      },
      "outputs": [
        {
          "output_type": "error",
          "ename": "NameError",
          "evalue": "ignored",
          "traceback": [
            "\u001b[0;31m---------------------------------------------------------------------------\u001b[0m",
            "\u001b[0;31mNameError\u001b[0m                                 Traceback (most recent call last)",
            "\u001b[0;32m<ipython-input-1-f678c8d02d24>\u001b[0m in \u001b[0;36m<module>\u001b[0;34m()\u001b[0m\n\u001b[0;32m----> 1\u001b[0;31m \u001b[0mstart_time\u001b[0m \u001b[0;34m=\u001b[0m \u001b[0mtime\u001b[0m\u001b[0;34m.\u001b[0m\u001b[0mclock_gettime\u001b[0m\u001b[0;34m(\u001b[0m\u001b[0;34m)\u001b[0m\u001b[0;34m\u001b[0m\u001b[0;34m\u001b[0m\u001b[0m\n\u001b[0m\u001b[1;32m      2\u001b[0m \u001b[0mtn_fruits_history\u001b[0m \u001b[0;34m=\u001b[0m \u001b[0mtn_fruits\u001b[0m\u001b[0;34m.\u001b[0m\u001b[0mfit\u001b[0m\u001b[0;34m(\u001b[0m\u001b[0mtrain_ds\u001b[0m\u001b[0;34m,\u001b[0m \u001b[0mvalidation_data\u001b[0m\u001b[0;34m=\u001b[0m\u001b[0mval_ds\u001b[0m\u001b[0;34m,\u001b[0m \u001b[0mepochs\u001b[0m \u001b[0;34m=\u001b[0m \u001b[0;36m20\u001b[0m\u001b[0;34m,\u001b[0m \u001b[0mverbose\u001b[0m \u001b[0;34m=\u001b[0m \u001b[0;36m0\u001b[0m\u001b[0;34m,\u001b[0m \u001b[0mshuffle\u001b[0m\u001b[0;34m=\u001b[0m\u001b[0;32mTrue\u001b[0m\u001b[0;34m)\u001b[0m\u001b[0;34m\u001b[0m\u001b[0;34m\u001b[0m\u001b[0m\n\u001b[1;32m      3\u001b[0m \u001b[0;34m\u001b[0m\u001b[0m\n\u001b[1;32m      4\u001b[0m \u001b[0;32mwith\u001b[0m \u001b[0mopen\u001b[0m\u001b[0;34m(\u001b[0m\u001b[0mos\u001b[0m\u001b[0;34m.\u001b[0m\u001b[0mgetcwd\u001b[0m\u001b[0;34m(\u001b[0m\u001b[0;34m)\u001b[0m\u001b[0;34m+\u001b[0m\u001b[0;34m\"/hists/tn_fruit_history.json\"\u001b[0m\u001b[0;34m,\u001b[0m \u001b[0;34m'w'\u001b[0m\u001b[0;34m)\u001b[0m \u001b[0;32mas\u001b[0m \u001b[0mf\u001b[0m\u001b[0;34m:\u001b[0m\u001b[0;34m\u001b[0m\u001b[0;34m\u001b[0m\u001b[0m\n\u001b[1;32m      5\u001b[0m     \u001b[0mjson\u001b[0m\u001b[0;34m.\u001b[0m\u001b[0mdump\u001b[0m\u001b[0;34m(\u001b[0m\u001b[0mtn_fruits_history\u001b[0m\u001b[0;34m.\u001b[0m\u001b[0mhistory\u001b[0m\u001b[0;34m,\u001b[0m \u001b[0mf\u001b[0m\u001b[0;34m)\u001b[0m\u001b[0;34m\u001b[0m\u001b[0;34m\u001b[0m\u001b[0m\n",
            "\u001b[0;31mNameError\u001b[0m: name 'time' is not defined"
          ]
        }
      ],
      "source": [
        "start_time = time.clock_gettime_ns()\n",
        "tn_fruits_history = tn_fruits.fit(train_ds, validation_data=val_ds, epochs = 20, verbose = 0, shuffle=True)\n",
        "end_time = time.clock_gettime_ns()\n",
        "\n",
        "elapsed = (end_time - start_time)*1e9\n",
        "\n",
        "print(f'Model took {elapsed} seconds to train')\n",
        "with open(os.getcwd()+\"/hists/tn_fruit_history.json\", 'w') as f:\n",
        "    json.dump(tn_fruits_history.history, f)"
      ]
    },
    {
      "cell_type": "code",
      "execution_count": null,
      "metadata": {
        "id": "Rl2CrOGWa-hV",
        "outputId": "d45eff48-3ba4-4e01-d3e7-083d278f70d5"
      },
      "outputs": [
        {
          "name": "stdout",
          "output_type": "stream",
          "text": [
            "Model: \"sequential\"\n",
            "_________________________________________________________________\n",
            " Layer (type)                Output Shape              Param #   \n",
            "=================================================================\n",
            " conv2d (Conv2D)             (None, 13, 13, 28)        140       \n",
            "                                                                 \n",
            " max_pooling2d (MaxPooling2D  (None, 6, 6, 28)         0         \n",
            " )                                                               \n",
            "                                                                 \n",
            " flatten (Flatten)           (None, 1008)              0         \n",
            "                                                                 \n",
            " dropout (Dropout)           (None, 1008)              0         \n",
            "                                                                 \n",
            " dense (Dense)               (None, 10)                10090     \n",
            "                                                                 \n",
            "=================================================================\n",
            "Total params: 10,230\n",
            "Trainable params: 10,230\n",
            "Non-trainable params: 0\n",
            "_________________________________________________________________\n"
          ]
        }
      ],
      "source": [
        "reg = regularizers.l2(0.005)\n",
        "init = initializers.RandomNormal(mean = 0, stddev = 0.05)\n",
        "opt = optimizers.Nadam(learning_rate = 0.01)\n",
        "\n",
        "\n",
        "classic_mnist = tf.keras.Sequential()\n",
        "classic_mnist.add(Conv2D(filters = 28, kernel_size = (2,2), strides=1, activation = 'relu', input_shape=(14,14,1), activity_regularizer = reg))\n",
        "classic_mnist.add(MaxPooling2D(pool_size = (2, 2), strides = 2))\n",
        "\n",
        "classic_mnist.add(Flatten())\n",
        "classic_mnist.add(Dropout(0.3))\n",
        "# classic_mnist.add(Dense(256,activation = 'relu'))\n",
        "classic_mnist.add(Dense(10,activation = 'softmax'))\n",
        "\n",
        "classic_mnist.summary()\n",
        "classic_mnist.compile(loss = tf.keras.losses.categorical_crossentropy,\n",
        "                optimizer = opt, metrics = ['Precision'])"
      ]
    },
    {
      "cell_type": "code",
      "execution_count": null,
      "metadata": {
        "id": "ZXvokugya-hW",
        "outputId": "5f011463-0150-4c12-c20c-e50fc74ce041"
      },
      "outputs": [
        {
          "name": "stdout",
          "output_type": "stream",
          "text": [
            "Model: \"sequential_5\"\n",
            "_________________________________________________________________\n",
            " Layer (type)                Output Shape              Param #   \n",
            "=================================================================\n",
            " conv2d_4 (Conv2D)           (None, 47, 47, 4)         196       \n",
            "                                                                 \n",
            " conv1 (Conv2D)              (None, 46, 46, 16)        272       \n",
            "                                                                 \n",
            " max_pool1 (MaxPooling2D)    (None, 23, 23, 16)        0         \n",
            "                                                                 \n",
            " conv2 (Conv2D)              (None, 22, 22, 256)       16640     \n",
            "                                                                 \n",
            " max_pool2 (MaxPooling2D)    (None, 11, 11, 256)       0         \n",
            "                                                                 \n",
            " flatten1 (Flatten)          (None, 30976)             0         \n",
            "                                                                 \n",
            " dropout1 (Dropout)          (None, 30976)             0         \n",
            "                                                                 \n",
            " dense1 (Dense)              (None, 64)                1982528   \n",
            "                                                                 \n",
            " dropout2 (Dropout)          (None, 64)                0         \n",
            "                                                                 \n",
            " out_dense (Dense)           (None, 131)               8515      \n",
            "                                                                 \n",
            "=================================================================\n",
            "Total params: 2,008,151\n",
            "Trainable params: 2,008,151\n",
            "Non-trainable params: 0\n",
            "_________________________________________________________________\n"
          ]
        }
      ],
      "source": [
        "#Defined a model using some layer regularizers to avoid overfitting\n",
        "classical_fruit = tf.keras.Sequential([\n",
        "  tf.keras.Input(shape=in_shape_fruits),\n",
        "  tf.keras.layers.Conv2D(4, kernel_size=4),\n",
        "  tf.keras.layers.Conv2D(16, kernel_size = 2, activation='relu', kernel_regularizer=regularizers.l2(1e-5), activity_regularizer=regularizers.l2(1e-5), name='conv1'),\n",
        "  tf.keras.layers.MaxPooling2D((2,2), name = 'max_pool1'),\n",
        "  tf.keras.layers.Conv2D(256, kernel_size = 2, activation='relu', kernel_regularizer=regularizers.l2(1e-5), activity_regularizer=regularizers.l2(1e-5), name='conv2'),\n",
        "  tf.keras.layers.MaxPooling2D((2,2), name = 'max_pool2'),\n",
        "  tf.keras.layers.Flatten(name='flatten1'),\n",
        "  tf.keras.layers.Dropout(0.5, name='dropout1'),\n",
        "  tf.keras.layers.Dense(64, activation = 'relu', name='dense1'),\n",
        "  tf.keras.layers.Dropout(0.2, name='dropout2'),\n",
        "  tf.keras.layers.Dense(131, activation='softmax', name='out_dense')\n",
        "])\n",
        "\n",
        "\n",
        "classical_fruit.summary()\n",
        "\n",
        "\n",
        "lr_schedule = optimizers.schedules.ExponentialDecay(0.01, 800, 0.1)\n",
        "\n",
        "opt = optimizers.Adam(learning_rate = lr_schedule, amsgrad=True)\n",
        "classical_fruit.compile(optimizer = opt, loss = 'categorical_crossentropy', metrics = ['Precision'])"
      ]
    },
    {
      "cell_type": "code",
      "execution_count": null,
      "metadata": {
        "id": "DWs1rGvFa-hX",
        "outputId": "e0eedb48-1ea1-4b19-a20f-420522903697"
      },
      "outputs": [
        {
          "name": "stdout",
          "output_type": "stream",
          "text": [
            "8/8 [==============================] - 3s 151ms/step - loss: 0.9765 - precision: 0.8597\n",
            "Classic fruits model scored 85.967% in test set\n"
          ]
        },
        {
          "data": {
            "image/png": "[encoded data removed]",
            "text/plain": [
              "<Figure size 864x576 with 2 Axes>"
            ]
          },
          "metadata": {
            "needs_background": "light"
          },
          "output_type": "display_data"
        }
      ],
      "source": [
        "\n",
        "start_time = time.clock_gettime_ns()\n",
        "class_fruit_hist = classical_fruit.fit(train_ds, validation_data=val_ds, epochs = 20, verbose = 0, shuffle=True)\n",
        "end_time = time.clock_gettime_ns()\n",
        "\n",
        "elapsed = (end_time - start_time)*1e9\n",
        "\n",
        "print(f'Model took {elapsed} seconds to train.')\n",
        "\n",
        "with open(os.getcwd()+'/hists/trad_fruit_hist.json', 'w') as f:\n",
        "    json.dump(class_fruit_hist.history, f)\n",
        "    \n",
        "loss, score = classical_fruit.evaluate(test_ds)\n",
        "\n",
        "print(f\"Classic fruits model scored {score*100:.3f}% in test set\")\n",
        "\n",
        "classic_fruit_plot = plot_loss_acc(class_fruit_hist.history, starting_epoch = 1, figsize=(12,8), tight_layout='pad')\n",
        "\n",
        "fig_dict['trad_fruit_history'] = classic_fruit_plot"
      ]
    }
  ]
}