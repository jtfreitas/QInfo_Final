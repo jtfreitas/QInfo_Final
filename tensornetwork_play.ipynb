{
  "nbformat": 4,
  "nbformat_minor": 0,
  "metadata": {
    "colab": {
      "name": "tensornetwork play.ipynb",
      "provenance": [],
      "collapsed_sections": [],
      "authorship_tag": "ABX9TyO0ZDqQGaVn1PD7i6soT//V",
      "include_colab_link": true
    },
    "kernelspec": {
      "name": "python3",
      "display_name": "Python 3"
    },
    "language_info": {
      "name": "python"
    }
  },
  "cells": [
    {
      "cell_type": "markdown",
      "metadata": {
        "id": "view-in-github",
        "colab_type": "text"
      },
      "source": [
        "<a href=\"https://colab.research.google.com/github/jtfreitas/QInfo_Final/blob/main/tensornetwork_play.ipynb\" target=\"_parent\"><img src=\"https://colab.research.google.com/assets/colab-badge.svg\" alt=\"Open In Colab\"/></a>"
      ]
    },
    {
      "cell_type": "code",
      "execution_count": 1,
      "metadata": {
        "colab": {
          "base_uri": "https://localhost:8080/"
        },
        "id": "eV7ukBVzgXrv",
        "outputId": "3bbab650-dd45-471c-df41-c57007d40f27"
      },
      "outputs": [
        {
          "output_type": "stream",
          "name": "stdout",
          "text": [
            "\u001b[K     |████████████████████████████████| 364 kB 8.5 MB/s \n",
            "\u001b[K     |████████████████████████████████| 46 kB 2.9 MB/s \n",
            "\u001b[?25h--2022-02-13 08:03:44--  https://archive.ics.uci.edu/ml/machine-learning-databases/00401/TCGA-PANCAN-HiSeq-801x20531.tar.gz\n",
            "Resolving archive.ics.uci.edu (archive.ics.uci.edu)... 128.195.10.252\n",
            "Connecting to archive.ics.uci.edu (archive.ics.uci.edu)|128.195.10.252|:443... connected.\n",
            "HTTP request sent, awaiting response... 200 OK\n",
            "Length: 72856320 (69M) [application/x-httpd-php]\n",
            "Saving to: ‘RNA_cancer.tar.gz’\n",
            "\n",
            "RNA_cancer.tar.gz   100%[===================>]  69.48M  31.5MB/s    in 2.2s    \n",
            "\n",
            "2022-02-13 08:03:47 (31.5 MB/s) - ‘RNA_cancer.tar.gz’ saved [72856320/72856320]\n",
            "\n",
            "TCGA-PANCAN-HiSeq-801x20531/\n",
            "TCGA-PANCAN-HiSeq-801x20531/data.csv\n",
            "TCGA-PANCAN-HiSeq-801x20531/labels.csv\n"
          ]
        }
      ],
      "source": [
        "!pip3 install tensornetwork jax jaxlib -q #--quiet flag\n",
        "!wget -O RNA_cancer.tar.gz  https://archive.ics.uci.edu/ml/machine-learning-databases/00401/TCGA-PANCAN-HiSeq-801x20531.tar.gz\n",
        "!tar -xvzf RNA_cancer.tar.gz\n",
        "!mv TCGA-PANCAN-HiSeq-801x20531 RNA_data"
      ]
    },
    {
      "cell_type": "code",
      "source": [
        "import tensornetwork as tn\n",
        "import numpy as np\n",
        "import tensorflow as tf\n",
        "from tensorflow.keras.datasets import mnist\n",
        "from tensorflow.keras.layers import Dense\n",
        "import time\n",
        "import pandas as pd\n",
        "\n",
        "tn.set_default_backend('tensorflow')"
      ],
      "metadata": {
        "id": "tgLwAbsOgeNI"
      },
      "execution_count": 23,
      "outputs": []
    },
    {
      "cell_type": "code",
      "source": [
        "(x_train, y_train), (x_test, y_test) = mnist.load_data('/content/mnist.npz')\n",
        "\n",
        "y_train = tf.one_hot(y_train, 10)\n",
        "in_shape = x_train[0].shape"
      ],
      "metadata": {
        "id": "D6tgleyZhR4Y"
      },
      "execution_count": null,
      "outputs": []
    },
    {
      "cell_type": "code",
      "source": [
        "def make_vector(pixel):\n",
        "  return np.array[np.cos(np.pi/2*pixel), np.sin(np.pi/2*pixel)]\n",
        "\n",
        "def feature_map(data_point):\n",
        "  feature_map = np.vectorize(make_vector)(data_point)\n",
        "\n",
        "  return feature_map\n",
        "\n",
        "#cluster average function, will be used later for generating the new_x, so to train over variations of the data?\n",
        "def avg_cluster(data, size):\n",
        "  out_shape = (data.shape[1]//size, data.shape[2]//size)\n",
        "  clustered_sample = np.zeros(out_shape)\n",
        "  for i in range(0, out_shape[0]):\n",
        "    for j in range(0, out_shape[1]):\n",
        "      clustered_sample[i,j] = np.mean(sample[size*i:size*(i+1), size*j:size*(j+1)])\n",
        "  return clustered_sample\n",
        "\n",
        "# cluster = np.vectorize(avg_cluster)\n",
        "x_train0 = np.zeros((len(x_train), 14, 14))\n",
        "for i, sample in enumerate(x_train):\n",
        "  x_train0[i] = avg_cluster(sample, 2)\n",
        "\n",
        "x_train = x_train0"
      ],
      "metadata": {
        "colab": {
          "base_uri": "https://localhost:8080/",
          "height": 130
        },
        "id": "DVnSZPY5iM4F",
        "outputId": "c8e16037-c979-4425-8a3b-8db041347686"
      },
      "execution_count": null,
      "outputs": [
        {
          "output_type": "error",
          "ename": "SyntaxError",
          "evalue": "ignored",
          "traceback": [
            "\u001b[0;36m  File \u001b[0;32m\"<ipython-input-5-9d4cfd5c68c1>\"\u001b[0;36m, line \u001b[0;32m2\u001b[0m\n\u001b[0;31m    return np.array([np.cos(np.pi/2*pixel), np.sin(np.pi/2*pixel])\u001b[0m\n\u001b[0m                                                                ^\u001b[0m\n\u001b[0;31mSyntaxError\u001b[0m\u001b[0;31m:\u001b[0m invalid syntax\n"
          ]
        }
      ]
    },
    {
      "cell_type": "code",
      "source": [
        "def make_vector(pixel):\n",
        "  return [np.cos(np.pi/2*pixel), np.sin(np.pi/2*pixel)]\n",
        "\n",
        "def feature_map(data_point):\n",
        "  feature_map = np.vectorize(make_vector)(data_point)\n",
        "\n",
        "  return feature_map\n",
        "\n",
        "trans_x_train = np.array([[make_vector(pixel) for pixel in data_point.flatten()] for data_point in x_train0])"
      ],
      "metadata": {
        "id": "hKO9AcJliZ2k"
      },
      "execution_count": null,
      "outputs": []
    },
    {
      "cell_type": "code",
      "source": [
        "#Building the tensor network\n",
        "\n",
        "class TNLayer(tf.keras.layers.Layer):\n",
        "\n",
        "  def __init__(self):\n",
        "    super(TNLayer, self).__init__()\n",
        "    # Create the variables for the layer.\n",
        "    self.a_var = tf.Variable(tf.random.normal(shape=(32,12,10),\n",
        "                                              stddev=1.0/32.0),\n",
        "                             name=\"a\", trainable=True)\n",
        "    self.b_var = tf.Variable(tf.random.normal(shape=(32,336,10),\n",
        "                                              stddev=1.0/32.0),\n",
        "                             name=\"b\", trainable=True)\n",
        "    self.bias = tf.Variable(tf.zeros(shape=(32,32)),\n",
        "                            name=\"bias\", trainable=True)\n",
        "\n",
        "  def call(self, inputs):\n",
        "    # Define the contraction.\n",
        "    # We break it out so we can parallelize a batch using\n",
        "    # tf.vectorized_map (see below).\n",
        "    def f(input_vec, a_var, b_var, bias_var):\n",
        "      # Reshape to a matrix instead of a vector.\n",
        "      input_vec = tf.reshape(input_vec, (12,336))\n",
        "\n",
        "      # Now we create the network.\n",
        "      a = tn.Node(a_var)\n",
        "      b = tn.Node(b_var)\n",
        "      x_node = tn.Node(input_vec)\n",
        "      a[1] ^ x_node[0]\n",
        "      b[1] ^ x_node[1]\n",
        "      a[2] ^ b[2]\n",
        "\n",
        "      # The TN should now look like this\n",
        "      #   |     |\n",
        "      #   a --- b \n",
        "      #    \\   /\n",
        "      #      x\n",
        "\n",
        "      # Now we begin the contraction.\n",
        "      biggie = a @ x_node\n",
        "      result = (biggie @ b).tensor\n",
        "\n",
        "      # Finally, add bias.\n",
        "      return result + bias_var\n",
        "\n",
        "    # To deal with a batch of items, we can use the tf.vectorized_map\n",
        "    # function.\n",
        "    # https://www.tensorflow.org/api_docs/python/tf/vectorized_map\n",
        "    result = tf.vectorized_map(\n",
        "        lambda vec: f(vec, self.a_var, self.b_var, self.bias), inputs)\n",
        "    return tf.nn.relu(tf.reshape(result, (-1, 1024)))"
      ],
      "metadata": {
        "id": "8x_6zd9mjY0A"
      },
      "execution_count": 3,
      "outputs": []
    },
    {
      "cell_type": "code",
      "source": [
        "Dense = tf.keras.layers.Dense\n",
        "Conv2D = tf.keras.layers.Conv2D\n",
        "MaxPooling2D = tf.keras.layers.MaxPooling2D\n",
        "Flatten = tf.keras.layers.Flatten\n",
        "tn_model = tf.keras.Sequential(\n",
        "    [\n",
        "     tf.keras.Input(shape=(*in_shape,1,)),\n",
        "     Conv2D(28, (4,4), strides = (1,1)),\n",
        "     MaxPooling2D((2,2)),\n",
        "     Flatten(),\n",
        "   #  Dense(1024, activation=tf.nn.relu),\n",
        "     # Here, we replace the dense layer with our MPS.\n",
        "     TNLayer(),\n",
        "     Dense(10, activation='softmax')])\n",
        "tn_model.summary()\n",
        "\n",
        "tn_model.compile(optimizer = 'adam', loss = 'categorical_crossentropy', metrics = ['accuracy'])"
      ],
      "metadata": {
        "id": "jAvRl-jF1wmF",
        "colab": {
          "base_uri": "https://localhost:8080/"
        },
        "outputId": "bfc4f902-7397-4e5d-a08f-51f926bc0152"
      },
      "execution_count": null,
      "outputs": [
        {
          "output_type": "stream",
          "name": "stdout",
          "text": [
            "Model: \"sequential_6\"\n",
            "_________________________________________________________________\n",
            " Layer (type)                Output Shape              Param #   \n",
            "=================================================================\n",
            " conv2d_6 (Conv2D)           (None, 25, 25, 28)        476       \n",
            "                                                                 \n",
            " max_pooling2d_6 (MaxPooling  (None, 12, 12, 28)       0         \n",
            " 2D)                                                             \n",
            "                                                                 \n",
            " flatten_6 (Flatten)         (None, 4032)              0         \n",
            "                                                                 \n",
            " tn_layer_6 (TNLayer)        (None, 1024)              112384    \n",
            "                                                                 \n",
            " dense_6 (Dense)             (None, 10)                10250     \n",
            "                                                                 \n",
            "=================================================================\n",
            "Total params: 123,110\n",
            "Trainable params: 123,110\n",
            "Non-trainable params: 0\n",
            "_________________________________________________________________\n"
          ]
        }
      ]
    },
    {
      "cell_type": "code",
      "source": [
        "hist_dict = tn_model.fit(x_train, y_train, batch_size = 4096, epochs = 10, verbose = 1, validation_split = 0.2, shuffle=True)"
      ],
      "metadata": {
        "colab": {
          "base_uri": "https://localhost:8080/"
        },
        "id": "P-snaXS2fiSZ",
        "outputId": "7f440945-502f-40cc-a14f-f11ff4ff4f0c"
      },
      "execution_count": null,
      "outputs": [
        {
          "output_type": "stream",
          "name": "stdout",
          "text": [
            "Epoch 1/10\n",
            "12/12 [==============================] - 90s 7s/step - loss: 2.7376 - accuracy: 0.5385 - val_loss: 0.7091 - val_accuracy: 0.8148\n",
            "Epoch 2/10\n",
            "12/12 [==============================] - 80s 7s/step - loss: 0.5519 - accuracy: 0.8521 - val_loss: 0.4066 - val_accuracy: 0.8939\n",
            "Epoch 3/10\n",
            "12/12 [==============================] - 80s 7s/step - loss: 0.3520 - accuracy: 0.9013 - val_loss: 0.2916 - val_accuracy: 0.9215\n",
            "Epoch 4/10\n",
            "12/12 [==============================] - 80s 7s/step - loss: 0.2612 - accuracy: 0.9231 - val_loss: 0.2299 - val_accuracy: 0.9333\n",
            "Epoch 5/10\n",
            "12/12 [==============================] - 80s 7s/step - loss: 0.2120 - accuracy: 0.9372 - val_loss: 0.2003 - val_accuracy: 0.9427\n",
            "Epoch 6/10\n",
            "12/12 [==============================] - 80s 7s/step - loss: 0.1816 - accuracy: 0.9462 - val_loss: 0.1808 - val_accuracy: 0.9483\n",
            "Epoch 7/10\n",
            "12/12 [==============================] - 80s 7s/step - loss: 0.1598 - accuracy: 0.9527 - val_loss: 0.1650 - val_accuracy: 0.9520\n",
            "Epoch 8/10\n",
            "12/12 [==============================] - 81s 7s/step - loss: 0.1414 - accuracy: 0.9583 - val_loss: 0.1533 - val_accuracy: 0.9556\n",
            "Epoch 9/10\n",
            "12/12 [==============================] - 85s 7s/step - loss: 0.1264 - accuracy: 0.9632 - val_loss: 0.1446 - val_accuracy: 0.9575\n",
            "Epoch 10/10\n",
            "12/12 [==============================] - 81s 7s/step - loss: 0.1137 - accuracy: 0.9671 - val_loss: 0.1360 - val_accuracy: 0.9597\n"
          ]
        }
      ]
    },
    {
      "cell_type": "code",
      "source": [
        "y_test = tf.one_hot(y_test, 10)\n",
        "\n",
        "tn_model.evaluate(x_test, y_test)"
      ],
      "metadata": {
        "colab": {
          "base_uri": "https://localhost:8080/"
        },
        "id": "HPOOO4cniS6a",
        "outputId": "7cf0f2fa-eed0-4890-c3fd-95f1836cf096"
      },
      "execution_count": null,
      "outputs": [
        {
          "output_type": "stream",
          "name": "stdout",
          "text": [
            "313/313 [==============================] - 25s 79ms/step - loss: 0.1375 - accuracy: 0.9582\n"
          ]
        },
        {
          "output_type": "execute_result",
          "data": {
            "text/plain": [
              "[0.13754282891750336, 0.9581999778747559]"
            ]
          },
          "metadata": {},
          "execution_count": 32
        }
      ]
    },
    {
      "cell_type": "code",
      "source": [
        "data = pd.read_csv('/content/RNA_data/data.csv')\n",
        "labels = pd.read_csv('/content/RNA_data/labels.csv')"
      ],
      "metadata": {
        "id": "az5U5ZWBWt1x"
      },
      "execution_count": 4,
      "outputs": []
    },
    {
      "cell_type": "code",
      "source": [
        "X = data[data.keys()[1:]].to_numpy()"
      ],
      "metadata": {
        "id": "DdK1MuljJlMg"
      },
      "execution_count": 5,
      "outputs": []
    },
    {
      "cell_type": "code",
      "source": [
        "def translate(label, trans_dict):\n",
        "  return trans_dict[label]\n",
        "\n",
        "\n",
        "translation = {label : i for i, label in enumerate(labels['Class'].unique())}\n",
        "y_converted = labels['Class'].apply(translate, args=(translation,))\n",
        "y = y_converted.to_numpy()"
      ],
      "metadata": {
        "id": "yWb6t6oOOzo2"
      },
      "execution_count": 6,
      "outputs": []
    },
    {
      "cell_type": "code",
      "source": [
        "tf.one_hot(y, 5)"
      ],
      "metadata": {
        "colab": {
          "base_uri": "https://localhost:8080/"
        },
        "id": "sqlGy1enR5kS",
        "outputId": "01182cee-5c65-4106-b236-7bf76f1fc17d"
      },
      "execution_count": null,
      "outputs": [
        {
          "output_type": "execute_result",
          "data": {
            "text/plain": [
              "<tf.Tensor: shape=(801, 5), dtype=float32, numpy=\n",
              "array([[1., 0., 0., 0., 0.],\n",
              "       [0., 1., 0., 0., 0.],\n",
              "       [1., 0., 0., 0., 0.],\n",
              "       ...,\n",
              "       [0., 0., 0., 0., 1.],\n",
              "       [1., 0., 0., 0., 0.],\n",
              "       [1., 0., 0., 0., 0.]], dtype=float32)>"
            ]
          },
          "metadata": {},
          "execution_count": 70
        }
      ]
    },
    {
      "cell_type": "code",
      "source": [
        "#Building the tensor network\n",
        "class TNLayer(tf.keras.layers.Layer):\n",
        "\n",
        "  def __init__(self):\n",
        "    super(TNLayer, self).__init__()\n",
        "    # Create the variables for the layer.\n",
        "    self.a_var = tf.Variable(tf.random.normal(shape=(32,419,5),\n",
        "                                              stddev=1.0/32.0),\n",
        "                             name=\"a\", trainable=True)\n",
        "    self.b_var = tf.Variable(tf.random.normal(shape=(32,7,5,5),\n",
        "                                              stddev=1.0/32.0),\n",
        "                             name=\"b\", trainable=True)\n",
        "    self.c_var = tf.Variable(tf.random.normal(shape=(12,7,5),\n",
        "                                         stddev=1.0/32.0),\n",
        "                         name=\"c\", trainable=True)\n",
        "    self.bias = tf.Variable(tf.zeros(shape=(32,32,12)),\n",
        "                            name=\"bias\", trainable=True)\n",
        "\n",
        "  def call(self, inputs):\n",
        "    # Define the contraction.\n",
        "    def f(input_vec, a_var, b_var, c_var, bias_var):\n",
        "\n",
        "      # The TN aspect\n",
        "      #   |     |     |\n",
        "      #   a --- b --- c\n",
        "      #    \\    |    /\n",
        "      #      ---x---\n",
        "\n",
        "      # Reshape input to matrix.\n",
        "      input_vec = tf.reshape(input_vec, (419,7,7))\n",
        "\n",
        "\n",
        "      result = tn.ncon([input_vec, a_var, b_var, c_var], [[1, 2, 3], [-1, 1, 4], [-2, 2, 4, 5], [-3,3,5]])\n",
        "      #Numbers here are edge numbers. Their position must match the index positions\n",
        "      # Finally, add bias.\n",
        "      return result + bias_var\n",
        "\n",
        "    # To deal with a batch of items, we can use the tf.vectorized_map\n",
        "    # function.\n",
        "    # https://www.tensorflow.org/api_docs/python/tf/vectorized_map\n",
        "    result = tf.vectorized_map(\n",
        "        lambda vec: f(vec, self.a_var, self.b_var, self.c_var, self.bias), inputs)\n",
        "    return tf.nn.relu(tf.reshape(result, (-1, 12288))) #perform activation"
      ],
      "metadata": {
        "id": "Tm2aOCBAVDEO"
      },
      "execution_count": 7,
      "outputs": []
    },
    {
      "cell_type": "code",
      "source": [
        "X_train, y_train = X[:680], y[:680]\n",
        "X_test, y_test = X[680:], y[680:]\n",
        "\n",
        "y_train, y_test = tf.one_hot(y_train, 5), tf.one_hot(y_test, 5)\n",
        "\n",
        "RNA_tn = tf.keras.Sequential(\n",
        "    [tf.keras.Input(20531, batch_size=136),\n",
        "     TNLayer(),\n",
        "     Dense(5, activation='softmax')\n",
        "     ]\n",
        ")\n",
        "RNA_tn.summary()\n",
        "RNA_tn.compile(optimizer='adam', loss='categorical_crossentropy', metrics=['accuracy'])"
      ],
      "metadata": {
        "colab": {
          "base_uri": "https://localhost:8080/"
        },
        "id": "wc0ZGq9qSosA",
        "outputId": "29bdab2d-7e64-4687-8a7d-dcde175b10d7"
      },
      "execution_count": 24,
      "outputs": [
        {
          "output_type": "stream",
          "name": "stdout",
          "text": [
            "Model: \"sequential_4\"\n",
            "_________________________________________________________________\n",
            " Layer (type)                Output Shape              Param #   \n",
            "=================================================================\n",
            " tn_layer_3 (TNLayer)        (136, 12288)              85348     \n",
            "                                                                 \n",
            " dense_6 (Dense)             (136, 5)                  61445     \n",
            "                                                                 \n",
            "=================================================================\n",
            "Total params: 146,793\n",
            "Trainable params: 146,793\n",
            "Non-trainable params: 0\n",
            "_________________________________________________________________\n"
          ]
        }
      ]
    },
    {
      "cell_type": "code",
      "source": [
        "start = time.time()\n",
        "history = RNA_tn.fit(X_train, y_train, batch_size=136, epochs=20, validation_split=0.2, shuffle=True)\n",
        "end = time.time()\n",
        "print(end - start)"
      ],
      "metadata": {
        "colab": {
          "base_uri": "https://localhost:8080/"
        },
        "id": "xx5XRON5XyOO",
        "outputId": "4a9eb848-0638-4191-f894-c554e8ae0f24"
      },
      "execution_count": 25,
      "outputs": [
        {
          "output_type": "stream",
          "name": "stdout",
          "text": [
            "Epoch 1/20\n",
            "4/4 [==============================] - 2s 307ms/step - loss: 1.6297 - accuracy: 0.3640 - val_loss: 1.4290 - val_accuracy: 0.6544\n",
            "Epoch 2/20\n",
            "4/4 [==============================] - 1s 192ms/step - loss: 1.3110 - accuracy: 0.5864 - val_loss: 1.1873 - val_accuracy: 0.3676\n",
            "Epoch 3/20\n",
            "4/4 [==============================] - 1s 193ms/step - loss: 1.0868 - accuracy: 0.6085 - val_loss: 0.9533 - val_accuracy: 0.8824\n",
            "Epoch 4/20\n",
            "4/4 [==============================] - 1s 190ms/step - loss: 0.8345 - accuracy: 0.8548 - val_loss: 0.6879 - val_accuracy: 0.8235\n",
            "Epoch 5/20\n",
            "4/4 [==============================] - 1s 188ms/step - loss: 0.5737 - accuracy: 0.9228 - val_loss: 0.4482 - val_accuracy: 1.0000\n",
            "Epoch 6/20\n",
            "4/4 [==============================] - 1s 193ms/step - loss: 0.3512 - accuracy: 0.9890 - val_loss: 0.2476 - val_accuracy: 0.9779\n",
            "Epoch 7/20\n",
            "4/4 [==============================] - 1s 192ms/step - loss: 0.1849 - accuracy: 0.9945 - val_loss: 0.1378 - val_accuracy: 1.0000\n",
            "Epoch 8/20\n",
            "4/4 [==============================] - 1s 189ms/step - loss: 0.0931 - accuracy: 0.9963 - val_loss: 0.0712 - val_accuracy: 0.9926\n",
            "Epoch 9/20\n",
            "4/4 [==============================] - 1s 190ms/step - loss: 0.0513 - accuracy: 0.9982 - val_loss: 0.0477 - val_accuracy: 1.0000\n",
            "Epoch 10/20\n",
            "4/4 [==============================] - 1s 190ms/step - loss: 0.0302 - accuracy: 0.9982 - val_loss: 0.0269 - val_accuracy: 0.9926\n",
            "Epoch 11/20\n",
            "4/4 [==============================] - 1s 191ms/step - loss: 0.0185 - accuracy: 0.9982 - val_loss: 0.0205 - val_accuracy: 0.9926\n",
            "Epoch 12/20\n",
            "4/4 [==============================] - 1s 194ms/step - loss: 0.0123 - accuracy: 0.9982 - val_loss: 0.0152 - val_accuracy: 1.0000\n",
            "Epoch 13/20\n",
            "4/4 [==============================] - 1s 191ms/step - loss: 0.0093 - accuracy: 1.0000 - val_loss: 0.0141 - val_accuracy: 1.0000\n",
            "Epoch 14/20\n",
            "4/4 [==============================] - 1s 191ms/step - loss: 0.0077 - accuracy: 0.9982 - val_loss: 0.0119 - val_accuracy: 1.0000\n",
            "Epoch 15/20\n",
            "4/4 [==============================] - 1s 191ms/step - loss: 0.0061 - accuracy: 0.9982 - val_loss: 0.0101 - val_accuracy: 1.0000\n",
            "Epoch 16/20\n",
            "4/4 [==============================] - 1s 192ms/step - loss: 0.0048 - accuracy: 1.0000 - val_loss: 0.0090 - val_accuracy: 1.0000\n",
            "Epoch 17/20\n",
            "4/4 [==============================] - 1s 195ms/step - loss: 0.0040 - accuracy: 1.0000 - val_loss: 0.0085 - val_accuracy: 1.0000\n",
            "Epoch 18/20\n",
            "4/4 [==============================] - 1s 193ms/step - loss: 0.0034 - accuracy: 1.0000 - val_loss: 0.0081 - val_accuracy: 1.0000\n",
            "Epoch 19/20\n",
            "4/4 [==============================] - 1s 195ms/step - loss: 0.0029 - accuracy: 1.0000 - val_loss: 0.0074 - val_accuracy: 1.0000\n",
            "Epoch 20/20\n",
            "4/4 [==============================] - 1s 190ms/step - loss: 0.0027 - accuracy: 1.0000 - val_loss: 0.0071 - val_accuracy: 1.0000\n",
            "21.446793794631958\n"
          ]
        }
      ]
    },
    {
      "cell_type": "code",
      "source": [
        "RNA_tn.evaluate(X_test, y_test, batch_size=121)"
      ],
      "metadata": {
        "colab": {
          "base_uri": "https://localhost:8080/"
        },
        "id": "J9AxZGzlZmwr",
        "outputId": "0eb7e3df-e2aa-4ea2-a470-cdd4c77f3a4c"
      },
      "execution_count": 26,
      "outputs": [
        {
          "output_type": "stream",
          "name": "stdout",
          "text": [
            "WARNING:tensorflow:Model was constructed with shape (136, 20531) for input KerasTensor(type_spec=TensorSpec(shape=(136, 20531), dtype=tf.float32, name='input_6'), name='input_6', description=\"created by layer 'input_6'\"), but it was called on an input with incompatible shape (121, 20531).\n",
            "1/1 [==============================] - 0s 394ms/step - loss: 0.0087 - accuracy: 1.0000\n"
          ]
        },
        {
          "output_type": "execute_result",
          "data": {
            "text/plain": [
              "[0.00866545271128416, 1.0]"
            ]
          },
          "metadata": {},
          "execution_count": 26
        }
      ]
    },
    {
      "cell_type": "code",
      "source": [
        "RNA_classic = tf.keras.Sequential(\n",
        "    [tf.keras.Input(20531, batch_size=136),\n",
        "     Dense(1024, activation='relu'),\n",
        "     Dense(5, activation='softmax')\n",
        "     ]\n",
        ")\n",
        "RNA_classic.summary()\n",
        "RNA_classic.compile(optimizer='adam', loss='categorical_crossentropy', metrics=['accuracy'])"
      ],
      "metadata": {
        "colab": {
          "base_uri": "https://localhost:8080/"
        },
        "id": "4mju0XsUZya4",
        "outputId": "9c8c4866-fbd1-481b-b712-f77bc4997819"
      },
      "execution_count": 29,
      "outputs": [
        {
          "output_type": "stream",
          "name": "stdout",
          "text": [
            "Model: \"sequential_6\"\n",
            "_________________________________________________________________\n",
            " Layer (type)                Output Shape              Param #   \n",
            "=================================================================\n",
            " dense_9 (Dense)             (136, 1024)               21024768  \n",
            "                                                                 \n",
            " dense_10 (Dense)            (136, 5)                  5125      \n",
            "                                                                 \n",
            "=================================================================\n",
            "Total params: 21,029,893\n",
            "Trainable params: 21,029,893\n",
            "Non-trainable params: 0\n",
            "_________________________________________________________________\n"
          ]
        }
      ]
    },
    {
      "cell_type": "code",
      "source": [
        "start = time.time()\n",
        "hist_classic = RNA_classic.fit(X_train, y_train, batch_size = 136, epochs=20, validation_split = 0.2, shuffle=True)\n",
        "end = time.time()\n",
        "print(end - start)"
      ],
      "metadata": {
        "colab": {
          "base_uri": "https://localhost:8080/"
        },
        "id": "FRXnh1tMfiLO",
        "outputId": "d6cc121d-4198-4e4e-ed42-8b428b8bf5c5"
      },
      "execution_count": 30,
      "outputs": [
        {
          "output_type": "stream",
          "name": "stdout",
          "text": [
            "Epoch 1/20\n",
            "4/4 [==============================] - 2s 318ms/step - loss: 802.6733 - accuracy: 0.2500 - val_loss: 1303.4558 - val_accuracy: 0.1176\n",
            "Epoch 2/20\n",
            "4/4 [==============================] - 1s 269ms/step - loss: 790.2600 - accuracy: 0.1213 - val_loss: 130.8927 - val_accuracy: 0.1765\n",
            "Epoch 3/20\n",
            "4/4 [==============================] - 1s 266ms/step - loss: 124.9977 - accuracy: 0.3419 - val_loss: 123.4587 - val_accuracy: 0.3676\n",
            "Epoch 4/20\n",
            "4/4 [==============================] - 1s 269ms/step - loss: 114.6471 - accuracy: 0.3309 - val_loss: 63.7763 - val_accuracy: 0.3529\n",
            "Epoch 5/20\n",
            "4/4 [==============================] - 1s 267ms/step - loss: 76.8782 - accuracy: 0.3180 - val_loss: 54.7279 - val_accuracy: 0.3676\n",
            "Epoch 6/20\n",
            "4/4 [==============================] - 1s 268ms/step - loss: 43.0847 - accuracy: 0.5037 - val_loss: 57.7767 - val_accuracy: 0.3382\n",
            "Epoch 7/20\n",
            "4/4 [==============================] - 1s 265ms/step - loss: 29.6157 - accuracy: 0.5533 - val_loss: 1.2997 - val_accuracy: 0.8309\n",
            "Epoch 8/20\n",
            "4/4 [==============================] - 1s 266ms/step - loss: 12.9001 - accuracy: 0.5129 - val_loss: 2.8470 - val_accuracy: 0.7500\n",
            "Epoch 9/20\n",
            "4/4 [==============================] - 1s 270ms/step - loss: 1.3217 - accuracy: 0.8989 - val_loss: 4.9549 - val_accuracy: 0.7353\n",
            "Epoch 10/20\n",
            "4/4 [==============================] - 1s 264ms/step - loss: 4.2046 - accuracy: 0.7408 - val_loss: 1.5239 - val_accuracy: 0.8750\n",
            "Epoch 11/20\n",
            "4/4 [==============================] - 1s 267ms/step - loss: 0.6321 - accuracy: 0.9577 - val_loss: 0.3090 - val_accuracy: 0.9412\n",
            "Epoch 12/20\n",
            "4/4 [==============================] - 1s 264ms/step - loss: 0.5402 - accuracy: 0.9338 - val_loss: 1.7552 - val_accuracy: 0.8309\n",
            "Epoch 13/20\n",
            "4/4 [==============================] - 1s 265ms/step - loss: 0.6044 - accuracy: 0.9173 - val_loss: 0.0694 - val_accuracy: 0.9926\n",
            "Epoch 14/20\n",
            "4/4 [==============================] - 1s 266ms/step - loss: 0.0647 - accuracy: 0.9908 - val_loss: 0.0285 - val_accuracy: 0.9926\n",
            "Epoch 15/20\n",
            "4/4 [==============================] - 1s 264ms/step - loss: 0.0328 - accuracy: 0.9945 - val_loss: 0.0830 - val_accuracy: 0.9926\n",
            "Epoch 16/20\n",
            "4/4 [==============================] - 1s 269ms/step - loss: 0.0651 - accuracy: 0.9945 - val_loss: 0.0979 - val_accuracy: 0.9926\n",
            "Epoch 17/20\n",
            "4/4 [==============================] - 1s 266ms/step - loss: 0.1153 - accuracy: 0.9853 - val_loss: 0.1748 - val_accuracy: 0.9632\n",
            "Epoch 18/20\n",
            "4/4 [==============================] - 1s 266ms/step - loss: 0.0753 - accuracy: 0.9890 - val_loss: 0.0843 - val_accuracy: 0.9926\n",
            "Epoch 19/20\n",
            "4/4 [==============================] - 1s 270ms/step - loss: 0.0456 - accuracy: 0.9963 - val_loss: 0.0466 - val_accuracy: 0.9926\n",
            "Epoch 20/20\n",
            "4/4 [==============================] - 1s 372ms/step - loss: 0.0111 - accuracy: 0.9963 - val_loss: 0.0168 - val_accuracy: 0.9926\n",
            "41.438756465911865\n"
          ]
        }
      ]
    },
    {
      "cell_type": "code",
      "source": [
        "RNA_classic.evaluate(X_test, y_test, batch_size=121)"
      ],
      "metadata": {
        "colab": {
          "base_uri": "https://localhost:8080/"
        },
        "id": "vfmRyVXHf-iC",
        "outputId": "4c1aef58-c89e-4398-cea6-d21aeca8e328"
      },
      "execution_count": 31,
      "outputs": [
        {
          "output_type": "stream",
          "name": "stdout",
          "text": [
            "WARNING:tensorflow:Model was constructed with shape (136, 20531) for input KerasTensor(type_spec=TensorSpec(shape=(136, 20531), dtype=tf.float32, name='input_8'), name='input_8', description=\"created by layer 'input_8'\"), but it was called on an input with incompatible shape (121, 20531).\n",
            "1/1 [==============================] - 0s 210ms/step - loss: 0.1495 - accuracy: 0.9917\n"
          ]
        },
        {
          "output_type": "execute_result",
          "data": {
            "text/plain": [
              "[0.14948438107967377, 0.9917355179786682]"
            ]
          },
          "metadata": {},
          "execution_count": 31
        }
      ]
    }
  ]
}