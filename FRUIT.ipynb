{
  "cells": [
    {
      "cell_type": "markdown",
      "metadata": {
        "id": "view-in-github",
        "colab_type": "text"
      },
      "source": [
        "<a href=\"https://colab.research.google.com/github/jtfreitas/QInfo_Final/blob/main/FRUIT.ipynb\" target=\"_parent\"><img src=\"https://colab.research.google.com/assets/colab-badge.svg\" alt=\"Open In Colab\"/></a>"
      ]
    },
    {
      "cell_type": "code",
      "execution_count": 1,
      "metadata": {
        "colab": {
          "base_uri": "https://localhost:8080/"
        },
        "id": "yPidBcdV1aTG",
        "outputId": "a2c0b348-e95c-44fe-c457-a754a03ab2c2"
      },
      "outputs": [
        {
          "output_type": "stream",
          "name": "stdout",
          "text": [
            "\u001b[K     |████████████████████████████████| 364 kB 5.1 MB/s \n",
            "\u001b[K     |████████████████████████████████| 1.4 MB 37.2 MB/s \n",
            "\u001b[K     |████████████████████████████████| 46 kB 2.1 MB/s \n",
            "\u001b[K     |████████████████████████████████| 11.2 MB 38.7 MB/s \n",
            "\u001b[K     |████████████████████████████████| 51 kB 4.7 MB/s \n",
            "\u001b[K     |████████████████████████████████| 895 kB 38.7 MB/s \n",
            "\u001b[K     |████████████████████████████████| 55 kB 2.8 MB/s \n",
            "\u001b[K     |████████████████████████████████| 3.6 MB 43.6 MB/s \n",
            "\u001b[?25h  Building wheel for ligo-segments (setup.py) ... \u001b[?25l\u001b[?25hdone\n",
            "\u001b[31mERROR: pip's dependency resolver does not currently take into account all the packages that are installed. This behaviour is the source of the following dependency conflicts.\n",
            "albumentations 0.1.12 requires imgaug<0.2.7,>=0.2.5, but you have imgaug 0.2.9 which is incompatible.\u001b[0m\n",
            "Proceed (y/n)? y\n",
            "\u001b[31mERROR: pip's dependency resolver does not currently take into account all the packages that are installed. This behaviour is the source of the following dependency conflicts.\n",
            "albumentations 0.1.12 requires imgaug<0.2.7,>=0.2.5, but you have imgaug 0.2.9 which is incompatible.\u001b[0m\n"
          ]
        }
      ],
      "source": [
        "!pip3 install tensornetwork jax jaxlib -q gwpy #--quiet flag\n",
        "!pip uninstall -q matplotlib\n",
        "!pip install -q matplotlib  #fixing a problem with matplotlib"
      ]
    },
    {
      "cell_type": "code",
      "execution_count": 1,
      "metadata": {
        "id": "uL4l4T4v2CNB"
      },
      "outputs": [],
      "source": [
        "import tensornetwork as tn\n",
        "import numpy as np\n",
        "import tensorflow as tf\n",
        "from tensorflow.keras.layers import Dense,MaxPooling2D,Conv2D,Dropout,Flatten, AveragePooling2D\n",
        "from tensornetwork.tn_keras.layers import Conv2DMPO, DenseMPO, DenseDecomp\n",
        "from tensorflow.keras import regularizers as reg\n",
        "from tensorflow.keras.callbacks import ModelCheckpoint\n",
        "import time\n",
        "import pandas as pd\n",
        "import matplotlib.pyplot as plt\n",
        "tn.set_default_backend('tensorflow')\n",
        "import tensorflow_datasets as tfds\n",
        "import os\n",
        "\n",
        "\n",
        "from tensorflow.keras import initializers, regularizers, optimizers, Input\n",
        "opt = optimizers.Nadam(learning_rate = 0.01)"
      ]
    },
    {
      "cell_type": "markdown",
      "metadata": {
        "id": "R4vJwwNW3gs-"
      },
      "source": [
        "Dataset from Kaggle loading"
      ]
    },
    {
      "cell_type": "code",
      "execution_count": 4,
      "metadata": {
        "colab": {
          "base_uri": "https://localhost:8080/"
        },
        "id": "-9mUketE3j_d",
        "outputId": "ef1cf7af-79fd-4239-89af-869b9389715c"
      },
      "outputs": [
        {
          "output_type": "stream",
          "name": "stdout",
          "text": [
            "mkdir: cannot create directory ‘/root/.kaggle’: File exists\n",
            "Downloading fruits.zip to /content\n",
            "100% 1.28G/1.28G [00:09<00:00, 90.6MB/s]\n",
            "100% 1.28G/1.28G [00:09<00:00, 144MB/s] \n"
          ]
        }
      ],
      "source": [
        "! pip install -q kaggle\n",
        "! mkdir ~/.kaggle\n",
        "! cp kaggle.json ~/.kaggle/\n",
        "! chmod 600 ~/.kaggle/kaggle.json\n",
        "\n",
        "! kaggle datasets download moltean/fruits\n",
        "! unzip -q fruits.zip\n",
        "! rm fruits.zip\n",
        "! rm -r fruits-360-original-size/"
      ]
    },
    {
      "cell_type": "code",
      "execution_count": 5,
      "metadata": {
        "id": "wq0DQMEo74vs"
      },
      "outputs": [],
      "source": [
        "! cp -r /content/fruits-360_dataset/fruits-360/Training /content/\n",
        "! cp -r /content/fruits-360_dataset/fruits-360/Test /content/\n",
        "! mv /content/Training FruitDataTrain\n",
        "! mv /content/Test FruitDataVal\n"
      ]
    },
    {
      "cell_type": "markdown",
      "metadata": {
        "id": "pDOdolbX5_Rn"
      },
      "source": [
        "#Classical convolutional NN model\n",
        "data has 131 labels"
      ]
    },
    {
      "cell_type": "markdown",
      "metadata": {
        "id": "HwUG9JEO95Po"
      },
      "source": [
        "image parameters"
      ]
    },
    {
      "cell_type": "code",
      "execution_count": 2,
      "metadata": {
        "id": "afYkHNtI93rF"
      },
      "outputs": [],
      "source": [
        "batch_size = 4*131\n",
        "img_height = 100\n",
        "img_width = 100"
      ]
    },
    {
      "cell_type": "code",
      "execution_count": 3,
      "metadata": {
        "colab": {
          "base_uri": "https://localhost:8080/"
        },
        "id": "CvwO0G_B-HdR",
        "outputId": "22fc3437-22c6-440b-dde4-a5e772ee41b1"
      },
      "outputs": [
        {
          "output_type": "stream",
          "name": "stdout",
          "text": [
            "Found 67692 files belonging to 131 classes.\n",
            "Using 54154 files for training.\n",
            "Found 67692 files belonging to 131 classes.\n",
            "Using 13538 files for validation.\n",
            "\n",
            "Test data:\n",
            "Found 22688 files belonging to 131 classes.\n"
          ]
        }
      ],
      "source": [
        "#Ideally, we want the batch to be large enough to contain at least one sample\n",
        "#of each class\n",
        "#Otherwise the model makes conclusions before seeing all types of data\n",
        "\n",
        "train_ds = tf.keras.utils.image_dataset_from_directory(\n",
        "  'FruitDataTrain',\n",
        "  labels = 'inferred',\n",
        "  label_mode='categorical',\n",
        "  color_mode = 'rgb',\n",
        "  validation_split= 0.2,\n",
        "  subset = 'training',\n",
        "  seed=123,\n",
        "  image_size=(img_height, img_width),\n",
        "  batch_size=batch_size)\n",
        "\n",
        "val_ds = tf.keras.utils.image_dataset_from_directory(\n",
        "  'FruitDataTrain',\n",
        "  labels = 'inferred',\n",
        "  label_mode='categorical',\n",
        "  color_mode = 'rgb',\n",
        "    validation_split= 0.2,\n",
        "  subset = 'validation',\n",
        "  seed=123,\n",
        "  image_size=(img_height, img_width),\n",
        "  batch_size=batch_size)\n",
        "\n",
        "print('\\nTest data:')\n",
        "test_ds = tf.keras.utils.image_dataset_from_directory(\n",
        "  'FruitDataVal',\n",
        "  labels = 'inferred',\n",
        "  label_mode='categorical',\n",
        "  color_mode = 'rgb',\n",
        "  seed=123,\n",
        "  image_size=(img_height, img_width),\n",
        "  batch_size=22688)"
      ]
    },
    {
      "cell_type": "code",
      "execution_count": 4,
      "metadata": {
        "id": "GeyKAarO-mUL"
      },
      "outputs": [],
      "source": [
        "normalization_layer = tf.keras.layers.Rescaling(1./255)\n",
        "\n",
        "normalized_ds_train = train_ds.map(lambda x, y: (normalization_layer(x), y))\n",
        "image_batch_train, labels_batch_train = next(iter(normalized_ds_train))\n",
        "\n",
        "normalized_ds_val = val_ds.map(lambda x, y: (normalization_layer(x), y))\n",
        "image_batch_val, labels_batch_val = next(iter(normalized_ds_val))\n",
        "\n",
        "first_image = image_batch_train[0]\n",
        "in_shape = first_image.shape"
      ]
    },
    {
      "cell_type": "code",
      "source": [
        "in_shape"
      ],
      "metadata": {
        "colab": {
          "base_uri": "https://localhost:8080/"
        },
        "id": "lNmrb7JDQxFv",
        "outputId": "3aa6e08a-29ca-40bf-d3cc-93c1c699fb01"
      },
      "execution_count": 5,
      "outputs": [
        {
          "output_type": "execute_result",
          "data": {
            "text/plain": [
              "TensorShape([100, 100, 3])"
            ]
          },
          "metadata": {},
          "execution_count": 5
        }
      ]
    },
    {
      "cell_type": "code",
      "source": [
        "plt.imshow(first_image)\n",
        "plt.show()\n",
        "print(f\"Label : {np.argmax(labels_batch_train[0])}\")"
      ],
      "metadata": {
        "colab": {
          "base_uri": "https://localhost:8080/",
          "height": 285
        },
        "id": "kpgUnhnIG3qr",
        "outputId": "afa7e7f8-0814-4dd5-bfb8-7c382b3e25d8"
      },
      "execution_count": 6,
      "outputs": [
        {
          "output_type": "display_data",
          "data": {
            "image/png": "[encoded data removed]",
            "text/plain": [
              "<Figure size 432x288 with 1 Axes>"
            ]
          },
          "metadata": {
            "needs_background": "light"
          }
        },
        {
          "output_type": "stream",
          "name": "stdout",
          "text": [
            "Label : 108\n"
          ]
        }
      ]
    },
    {
      "cell_type": "code",
      "execution_count": 7,
      "metadata": {
        "id": "KTv8mF-g5kjv",
        "colab": {
          "base_uri": "https://localhost:8080/"
        },
        "outputId": "e1081cbe-0b66-4eeb-c3d8-6e6e8f5a2eb3"
      },
      "outputs": [
        {
          "output_type": "stream",
          "name": "stdout",
          "text": [
            "Model: \"sequential\"\n",
            "_________________________________________________________________\n",
            " Layer (type)                Output Shape              Param #   \n",
            "=================================================================\n",
            " conv1 (Conv2D)              (None, 99, 99, 16)        208       \n",
            "                                                                 \n",
            " max_pool1 (MaxPooling2D)    (None, 49, 49, 16)        0         \n",
            "                                                                 \n",
            " conv2 (Conv2D)              (None, 48, 48, 32)        2080      \n",
            "                                                                 \n",
            " max_pool2 (MaxPooling2D)    (None, 24, 24, 32)        0         \n",
            "                                                                 \n",
            " conv3 (Conv2D)              (None, 23, 23, 128)       16512     \n",
            "                                                                 \n",
            " max_pool3 (MaxPooling2D)    (None, 11, 11, 128)       0         \n",
            "                                                                 \n",
            " flatten1 (Flatten)          (None, 15488)             0         \n",
            "                                                                 \n",
            " dropout1 (Dropout)          (None, 15488)             0         \n",
            "                                                                 \n",
            " dense1 (Dense)              (None, 180)               2788020   \n",
            "                                                                 \n",
            " dropout2 (Dropout)          (None, 180)               0         \n",
            "                                                                 \n",
            " out_dense (Dense)           (None, 131)               23711     \n",
            "                                                                 \n",
            "=================================================================\n",
            "Total params: 2,830,531\n",
            "Trainable params: 2,830,531\n",
            "Non-trainable params: 0\n",
            "_________________________________________________________________\n"
          ]
        }
      ],
      "source": [
        "# classical_model = tf.keras.Sequential([\n",
        "#   tf.keras.Input(shape=in_shape),\n",
        "#   tf.keras.layers.Conv2D(16,kernel_size = 3, activation='LeakyReLU'),\n",
        "#   tf.keras.layers.MaxPooling2D(),\n",
        "\n",
        "#   tf.keras.layers.Conv2D(16,kernel_size = 3, activation='LeakyReLU'),\n",
        "#   tf.keras.layers.MaxPooling2D(),\n",
        "#   tf.keras.layers.Flatten(),\n",
        "#   tf.keras.layers.Dense(131, activation='softmax'),\n",
        "# ])\n",
        "\n",
        "\n",
        "#Defined a model using some layer regularizers to avoid overfitting\n",
        "classical_model = tf.keras.Sequential([\n",
        "  tf.keras.Input(shape=in_shape),\n",
        "  tf.keras.layers.Conv2D(16, kernel_size = 2, activation='relu', kernel_regularizer=regularizers.l2(1e-5), activity_regularizer=regularizers.l2(1e-5), name='conv1'),\n",
        "  tf.keras.layers.MaxPooling2D((2,2), name = 'max_pool1'),\n",
        "  tf.keras.layers.Conv2D(32, kernel_size = 2, activation='relu', kernel_regularizer=regularizers.l2(1e-5), activity_regularizer=regularizers.l2(1e-5), name='conv2'),\n",
        "  tf.keras.layers.MaxPooling2D((2,2), name = 'max_pool2'),\n",
        "  tf.keras.layers.Conv2D(128, kernel_size = 2, activation='relu', kernel_regularizer=regularizers.l2(1e-5), activity_regularizer=regularizers.l2(1e-5), name='conv3'),\n",
        "  tf.keras.layers.MaxPooling2D((2,2), name = 'max_pool3'),\n",
        "  tf.keras.layers.Flatten(name='flatten1'),\n",
        "  tf.keras.layers.Dropout(0.5, name='dropout1'),\n",
        "  tf.keras.layers.Dense(180, activation = 'relu', name='dense1'),\n",
        "  tf.keras.layers.Dropout(0.2, name='dropout2'),\n",
        "  tf.keras.layers.Dense(131, activation='softmax', name='out_dense')\n",
        "])\n",
        "\n",
        "\n",
        "classical_model.summary()\n",
        "\n",
        "\n",
        "lr_schedule = optimizers.schedules.ExponentialDecay(0.01, 800, 0.1)\n",
        "#The loss was blowing up, meaning the training was reaching a point where\n",
        "#the learning rate was too large, so I wrote it with a schedule which makes it\n",
        "#decay to 10% every 500 training steps (batch runs)\n",
        "#https://www.tensorflow.org/api_docs/python/tf/keras/optimizers/schedules/ExponentialDecay\n",
        "\n",
        "opt = optimizers.Adam(learning_rate = lr_schedule, amsgrad=True)\n",
        "classical_model.compile(optimizer = opt, loss = 'categorical_crossentropy', metrics = ['accuracy'])"
      ]
    },
    {
      "cell_type": "code",
      "execution_count": null,
      "metadata": {
        "id": "LeRjZKYrAudr"
      },
      "outputs": [],
      "source": [
        "check_point = ModelCheckpoint(filepath = 'classic_CNN.hdf5', verbose = 1, save_best_only = True)\n",
        "\n",
        "with tf.device('GPU'): #just to make sure the training occurs in the GPU, even though it's default\n",
        "  hist_dict_cl = classical_model.fit(train_ds, validation_data=val_ds, epochs = 15, verbose = 1, shuffle=True, callbacks = [check_point])"
      ]
    },
    {
      "cell_type": "code",
      "source": [
        "#downloading the best model weights locally so we don't have to train the model repeatedly\n",
        "#I did this to automate things because I ran the model for 50 epochs and had to leave in the meantime.\n",
        "from google.colab import files\n",
        "\n",
        "files.download(\"classic_CNN.hdf5\")"
      ],
      "metadata": {
        "colab": {
          "base_uri": "https://localhost:8080/",
          "height": 17
        },
        "id": "IaaHfqNF78q0",
        "outputId": "d161efe5-13b7-40b8-99dd-89e6f773b57e"
      },
      "execution_count": 92,
      "outputs": [
        {
          "output_type": "display_data",
          "data": {
            "application/javascript": [
              "\n",
              "    async function download(id, filename, size) {\n",
              "      if (!google.colab.kernel.accessAllowed) {\n",
              "        return;\n",
              "      }\n",
              "      const div = document.createElement('div');\n",
              "      const label = document.createElement('label');\n",
              "      label.textContent = `Downloading \"${filename}\": `;\n",
              "      div.appendChild(label);\n",
              "      const progress = document.createElement('progress');\n",
              "      progress.max = size;\n",
              "      div.appendChild(progress);\n",
              "      document.body.appendChild(div);\n",
              "\n",
              "      const buffers = [];\n",
              "      let downloaded = 0;\n",
              "\n",
              "      const channel = await google.colab.kernel.comms.open(id);\n",
              "      // Send a message to notify the kernel that we're ready.\n",
              "      channel.send({})\n",
              "\n",
              "      for await (const message of channel.messages) {\n",
              "        // Send a message to notify the kernel that we're ready.\n",
              "        channel.send({})\n",
              "        if (message.buffers) {\n",
              "          for (const buffer of message.buffers) {\n",
              "            buffers.push(buffer);\n",
              "            downloaded += buffer.byteLength;\n",
              "            progress.value = downloaded;\n",
              "          }\n",
              "        }\n",
              "      }\n",
              "      const blob = new Blob(buffers, {type: 'application/binary'});\n",
              "      const a = document.createElement('a');\n",
              "      a.href = window.URL.createObjectURL(blob);\n",
              "      a.download = filename;\n",
              "      div.appendChild(a);\n",
              "      a.click();\n",
              "      div.remove();\n",
              "    }\n",
              "  "
            ],
            "text/plain": [
              "<IPython.core.display.Javascript object>"
            ]
          },
          "metadata": {}
        },
        {
          "output_type": "display_data",
          "data": {
            "application/javascript": [
              "download(\"download_731e6a8d-6a2e-441d-8173-a0cb2f524b90\", \"classic_CNN.hdf5\", 45348256)"
            ],
            "text/plain": [
              "<IPython.core.display.Javascript object>"
            ]
          },
          "metadata": {}
        }
      ]
    },
    {
      "cell_type": "code",
      "source": [
        "classical_model.load_weights(\"classic_CNN.hdf5\")"
      ],
      "metadata": {
        "id": "l7TlR7E2LEW3"
      },
      "execution_count": 8,
      "outputs": []
    },
    {
      "cell_type": "code",
      "source": [
        "fig, axs = plt.subplots((1,2), figsize = (18, 6))\n",
        "\n",
        "for key in hist_dict_cl.history.keys():\n",
        "  if 'acc' in key:\n",
        "    axs[0].plot(range(50), hist_dict_cl.history[key], label=key)\n",
        "  elif 'loss' in key:\n",
        "    axs[1].plot(range(50), hist_dict_cl.history[key], label=key)\n",
        "\n",
        "for ax in axs:\n",
        "  ax.legend()\n",
        "  ax.grid()\n",
        "\n",
        "fig.show()"
      ],
      "metadata": {
        "id": "3E-S2dDGK3xe"
      },
      "execution_count": null,
      "outputs": []
    },
    {
      "cell_type": "code",
      "source": [
        "classical_model.evaluate(test_ds, batch_size=22688)"
      ],
      "metadata": {
        "id": "WvyCOyA0tqTC"
      },
      "execution_count": null,
      "outputs": []
    },
    {
      "cell_type": "markdown",
      "metadata": {
        "id": "O2UDLktGCvhD"
      },
      "source": [
        "# A convolutional neural network based on TNs"
      ]
    },
    {
      "cell_type": "code",
      "execution_count": null,
      "metadata": {
        "id": "CQ9M1faWC-cL",
        "colab": {
          "base_uri": "https://localhost:8080/"
        },
        "outputId": "b5ba52cf-2e6a-4cd1-c4c7-2ef5f34ae527"
      },
      "outputs": [
        {
          "output_type": "stream",
          "name": "stdout",
          "text": [
            "Model: \"sequential_6\"\n",
            "_________________________________________________________________\n",
            " Layer (type)                Output Shape              Param #   \n",
            "=================================================================\n",
            " conv2d_6 (Conv2D)           (None, 83, 83, 64)        62272     \n",
            "                                                                 \n",
            " conv2dmpo_12 (Conv2DMPO)    (None, 83, 83, 64)        688       \n",
            "                                                                 \n",
            " max_pooling2d_12 (MaxPoolin  (None, 41, 41, 64)       0         \n",
            " g2D)                                                            \n",
            "                                                                 \n",
            " conv2dmpo_13 (Conv2DMPO)    (None, 41, 41, 64)        1216      \n",
            "                                                                 \n",
            " max_pooling2d_13 (MaxPoolin  (None, 20, 20, 64)       0         \n",
            " g2D)                                                            \n",
            "                                                                 \n",
            " flatten_4 (Flatten)         (None, 25600)             0         \n",
            "                                                                 \n",
            " dense_decomp_4 (DenseDecomp  (None, 10)               128060    \n",
            " )                                                               \n",
            "                                                                 \n",
            " dense (Dense)               (None, 131)               1441      \n",
            "                                                                 \n",
            "=================================================================\n",
            "Total params: 193,677\n",
            "Trainable params: 193,677\n",
            "Non-trainable params: 0\n",
            "_________________________________________________________________\n"
          ]
        }
      ],
      "source": [
        "tn_convolutional_model = tf.keras.Sequential()\n",
        "tn_convolutional_model.add(Conv2D(64, kernel_size=18, input_shape = (100, 100, 3)))\n",
        "tn_convolutional_model.add(Conv2DMPO(64, data_format = \"channels_last\", kernel_size=5, num_nodes=3, bond_dim=3, activation='LeakyReLU'))\n",
        "tn_convolutional_model.add(MaxPooling2D())\n",
        "\n",
        "tn_convolutional_model.add(Conv2DMPO(64, data_format = \"channels_last\", kernel_size=3, num_nodes=2, bond_dim=3, activation='LeakyReLU'))\n",
        "tn_convolutional_model.add(MaxPooling2D())\n",
        "\n",
        "tn_convolutional_model.add(Flatten())\n",
        "tn_convolutional_model.add(DenseDecomp(10, decomp_size=5, activation='LeakyReLU'))\n",
        "# tn_convolutional_model.add(Flatten())\n",
        "tn_convolutional_model.add(Dense(131,activation = 'softmax'))\n",
        "\n",
        "tn_convolutional_model.summary()\n",
        "\n",
        "tn_convolutional_model.compile(loss = tf.keras.losses.categorical_crossentropy,\n",
        "                optimizer = opt, metrics = ['accuracy'])\n",
        "\n",
        "# tn_convolutional_model = tf.keras.Sequential([\n",
        "#     Input(in_shape, batch_size = batch_size),\n",
        "#     Conv2D(64, kernel_size=18),\n",
        "#     Conv2DMPO(8, data_format = \"channels_last\", kernel_size=5, num_nodes=3, bond_dim=3, activation='LeakyReLU'),\n",
        "#     MaxPooling2D(),\n",
        "#     Conv2DMPO(64, data_format = \"channels_last\", kernel_size=3, num_nodes=3, bond_dim=3, activation='LeakyReLU'),\n",
        "#     MaxPooling2D(),\n",
        "#     Flatten(),\n",
        "#     Dense(131, activation = 'softmax')])\n",
        "\n",
        "# tn_convolutional_model.summary()\n",
        "# tn_convolutional_model.compile(loss = tf.keras.losses.categorical_crossentropy,\n",
        "#                 optimizer = opt, metrics = ['accuracy'])"
      ]
    },
    {
      "cell_type": "code",
      "source": [
        "in_shape"
      ],
      "metadata": {
        "colab": {
          "base_uri": "https://localhost:8080/"
        },
        "id": "Zns2mkxzUkH7",
        "outputId": "c8246a1a-b924-48ec-aec7-60d5ecae16b4"
      },
      "execution_count": null,
      "outputs": [
        {
          "output_type": "execute_result",
          "data": {
            "text/plain": [
              "TensorShape([100, 100, 3])"
            ]
          },
          "metadata": {},
          "execution_count": 19
        }
      ]
    },
    {
      "cell_type": "code",
      "execution_count": null,
      "metadata": {
        "id": "YI28-9YmDc4X",
        "colab": {
          "base_uri": "https://localhost:8080/"
        },
        "outputId": "4d2ee495-5bd2-4a02-a34f-7e8cda1a00e8"
      },
      "outputs": [
        {
          "output_type": "stream",
          "name": "stdout",
          "text": [
            "Epoch 1/10\n",
            "529/529 [==============================] - 216s 324ms/step - loss: 34942484.0000 - accuracy: 0.0120 - val_loss: 205088.0000 - val_accuracy: 0.0115\n",
            "Epoch 2/10\n",
            "529/529 [==============================] - 171s 322ms/step - loss: 176805.8594 - accuracy: 0.0120 - val_loss: 270358.9375 - val_accuracy: 0.0146\n",
            "Epoch 3/10\n",
            "529/529 [==============================] - 171s 322ms/step - loss: 98465.4531 - accuracy: 0.0139 - val_loss: 80786.1797 - val_accuracy: 0.0167\n",
            "Epoch 4/10\n",
            "529/529 [==============================] - 171s 322ms/step - loss: 66339.9922 - accuracy: 0.0135 - val_loss: 45965.4648 - val_accuracy: 0.0184\n",
            "Epoch 5/10\n",
            "529/529 [==============================] - 171s 322ms/step - loss: 46210.0938 - accuracy: 0.0137 - val_loss: 35975.8711 - val_accuracy: 0.0141\n",
            "Epoch 6/10\n",
            "529/529 [==============================] - 171s 322ms/step - loss: 40146.2578 - accuracy: 0.0142 - val_loss: 32241.9980 - val_accuracy: 0.0188\n",
            "Epoch 7/10\n",
            "529/529 [==============================] - 171s 322ms/step - loss: 23371.2578 - accuracy: 0.0150 - val_loss: 63830.6797 - val_accuracy: 0.0089\n",
            "Epoch 8/10\n",
            "529/529 [==============================] - 170s 321ms/step - loss: 23489.1992 - accuracy: 0.0155 - val_loss: 14131.7432 - val_accuracy: 0.0138\n",
            "Epoch 9/10\n",
            "529/529 [==============================] - 171s 322ms/step - loss: 232913.0000 - accuracy: 0.0166 - val_loss: 28763.9922 - val_accuracy: 0.0143\n",
            "Epoch 10/10\n",
            "529/529 [==============================] - 170s 321ms/step - loss: 24022.9629 - accuracy: 0.0130 - val_loss: 18272.0684 - val_accuracy: 0.0068\n"
          ]
        }
      ],
      "source": [
        "with tf.device('GPU'):\n",
        "  hist_dict_convolutional_tn = tn_convolutional_model.fit(train_ds, validation_data=val_ds, \n",
        "                                                          batch_size = batch_size, epochs = 10, verbose = 1, shuffle=True,\n",
        "                                                          workers=0, use_multiprocessing=True)"
      ]
    },
    {
      "cell_type": "code",
      "source": [
        "in_shape"
      ],
      "metadata": {
        "colab": {
          "base_uri": "https://localhost:8080/"
        },
        "id": "SZQ85eaESqJy",
        "outputId": "677fe568-c740-4ff7-f150-22d16ec062e4"
      },
      "execution_count": null,
      "outputs": [
        {
          "output_type": "execute_result",
          "data": {
            "text/plain": [
              "TensorShape([100, 100, 3])"
            ]
          },
          "metadata": {},
          "execution_count": 16
        }
      ]
    },
    {
      "cell_type": "code",
      "source": [
        ""
      ],
      "metadata": {
        "id": "IP44zj4XVXrS"
      },
      "execution_count": null,
      "outputs": []
    }
  ],
  "metadata": {
    "accelerator": "TPU",
    "colab": {
      "collapsed_sections": [],
      "name": "FRUIT.ipynb",
      "provenance": [],
      "include_colab_link": true
    },
    "kernelspec": {
      "display_name": "Python 3",
      "name": "python3"
    },
    "language_info": {
      "name": "python"
    }
  },
  "nbformat": 4,
  "nbformat_minor": 0
}